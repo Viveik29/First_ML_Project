{
 "cells": [
  {
   "cell_type": "code",
   "execution_count": 4,
   "id": "f61291ce",
   "metadata": {},
   "outputs": [
    {
     "data": {
      "text/plain": [
       "2"
      ]
     },
     "execution_count": 4,
     "metadata": {},
     "output_type": "execute_result"
    }
   ],
   "source": [
    "1+1"
   ]
  },
  {
   "cell_type": "code",
   "execution_count": 5,
   "id": "6bb8c680",
   "metadata": {},
   "outputs": [],
   "source": [
    "#Python example"
   ]
  },
  {
   "cell_type": "markdown",
   "id": "90946c92",
   "metadata": {},
   "source": [
    "print(\"My name is vivek\")"
   ]
  },
  {
   "cell_type": "code",
   "execution_count": 6,
   "id": "efe0ab72",
   "metadata": {},
   "outputs": [
    {
     "name": "stdout",
     "output_type": "stream",
     "text": [
      "Hi\n"
     ]
    }
   ],
   "source": [
    "print(\"Hi\")"
   ]
  }
 ],
 "metadata": {
  "kernelspec": {
   "display_name": "Python 3",
   "language": "python",
   "name": "python3"
  },
  "language_info": {
   "codemirror_mode": {
    "name": "ipython",
    "version": 3
   },
   "file_extension": ".py",
   "mimetype": "text/x-python",
   "name": "python",
   "nbconvert_exporter": "python",
   "pygments_lexer": "ipython3",
   "version": "3.12.11"
  }
 },
 "nbformat": 4,
 "nbformat_minor": 5
}
